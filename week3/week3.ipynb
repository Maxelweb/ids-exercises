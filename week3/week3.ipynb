{
 "cells": [
  {
   "cell_type": "markdown",
   "source": [
    "# Introduction to Data Science 2021\n",
    "\n",
    "# Week 3"
   ],
   "metadata": {}
  },
  {
   "cell_type": "markdown",
   "source": [
    "## Exercise 1 | Working with geospatial data (GIS)"
   ],
   "metadata": {}
  },
  {
   "cell_type": "markdown",
   "source": [
    "To get at least a bit familiar with [GIS](https://en.wikipedia.org/wiki/Geographic_information_system) data and the concept of map projections, we’ll do a simple task of plotting two data sets that are given in different coordinate systems.\n",
    "\n",
    "1. Download the [world_m.zip](https://github.com/HY-TKTL/intro-to-data-science-2017/blob/master/world_m.zip) and [cities.zip](https://github.com/HY-TKTL/intro-to-data-science-2017/blob/master/cities.zip) files that each include a set of GIS files. Most notably, the <span style=\"background-color: #ccfff2\">shp</span> files are [Shapefile-files](https://en.wikipedia.org/wiki/Shapefile) with coordinates (don’t look, it’s binary!). The <span style=\"background-color: #ccfff2\">prj</span> files contain information (in plain text, so okay to look) about the coordinate systems. Open the files using your favorite programming environment and packages.  \n",
    "\n",
    "    <span style=\"background-color: #ccfff2\"> *Hint: We warmly recommend [Geopandas](http://geopandas.org/) for pythonistas.*</span>"
   ],
   "metadata": {}
  },
  {
   "cell_type": "code",
   "execution_count": 13,
   "source": [
    "import geopandas as gpd\n",
    "\n",
    "world_m = gpd.read_file('./world_m')\n",
    "cities = gpd.read_file('./cities')\n",
    "\n",
    "# world_m.head(10)\n",
    "# cities.head(10)"
   ],
   "outputs": [
    {
     "output_type": "execute_result",
     "data": {
      "text/html": [
       "<div>\n",
       "<style scoped>\n",
       "    .dataframe tbody tr th:only-of-type {\n",
       "        vertical-align: middle;\n",
       "    }\n",
       "\n",
       "    .dataframe tbody tr th {\n",
       "        vertical-align: top;\n",
       "    }\n",
       "\n",
       "    .dataframe thead th {\n",
       "        text-align: right;\n",
       "    }\n",
       "</style>\n",
       "<table border=\"1\" class=\"dataframe\">\n",
       "  <thead>\n",
       "    <tr style=\"text-align: right;\">\n",
       "      <th></th>\n",
       "      <th>name</th>\n",
       "      <th>geometry</th>\n",
       "    </tr>\n",
       "  </thead>\n",
       "  <tbody>\n",
       "    <tr>\n",
       "      <th>0</th>\n",
       "      <td>Vatican City</td>\n",
       "      <td>POINT (12.45339 41.90328)</td>\n",
       "    </tr>\n",
       "    <tr>\n",
       "      <th>1</th>\n",
       "      <td>San Marino</td>\n",
       "      <td>POINT (12.44177 43.93610)</td>\n",
       "    </tr>\n",
       "    <tr>\n",
       "      <th>2</th>\n",
       "      <td>Vaduz</td>\n",
       "      <td>POINT (9.51667 47.13372)</td>\n",
       "    </tr>\n",
       "    <tr>\n",
       "      <th>3</th>\n",
       "      <td>Luxembourg</td>\n",
       "      <td>POINT (6.13000 49.61166)</td>\n",
       "    </tr>\n",
       "    <tr>\n",
       "      <th>4</th>\n",
       "      <td>Palikir</td>\n",
       "      <td>POINT (158.14997 6.91664)</td>\n",
       "    </tr>\n",
       "    <tr>\n",
       "      <th>5</th>\n",
       "      <td>Majuro</td>\n",
       "      <td>POINT (171.38000 7.10300)</td>\n",
       "    </tr>\n",
       "    <tr>\n",
       "      <th>6</th>\n",
       "      <td>Funafuti</td>\n",
       "      <td>POINT (179.21665 -8.51665)</td>\n",
       "    </tr>\n",
       "    <tr>\n",
       "      <th>7</th>\n",
       "      <td>Melekeok</td>\n",
       "      <td>POINT (134.62655 7.48740)</td>\n",
       "    </tr>\n",
       "    <tr>\n",
       "      <th>8</th>\n",
       "      <td>Monaco</td>\n",
       "      <td>POINT (7.40691 43.73965)</td>\n",
       "    </tr>\n",
       "    <tr>\n",
       "      <th>9</th>\n",
       "      <td>Tarawa</td>\n",
       "      <td>POINT (173.01757 1.33819)</td>\n",
       "    </tr>\n",
       "  </tbody>\n",
       "</table>\n",
       "</div>"
      ],
      "text/plain": [
       "           name                    geometry\n",
       "0  Vatican City   POINT (12.45339 41.90328)\n",
       "1    San Marino   POINT (12.44177 43.93610)\n",
       "2         Vaduz    POINT (9.51667 47.13372)\n",
       "3    Luxembourg    POINT (6.13000 49.61166)\n",
       "4       Palikir   POINT (158.14997 6.91664)\n",
       "5        Majuro   POINT (171.38000 7.10300)\n",
       "6      Funafuti  POINT (179.21665 -8.51665)\n",
       "7      Melekeok   POINT (134.62655 7.48740)\n",
       "8        Monaco    POINT (7.40691 43.73965)\n",
       "9        Tarawa   POINT (173.01757 1.33819)"
      ]
     },
     "metadata": {},
     "execution_count": 13
    }
   ],
   "metadata": {}
  },
  {
   "cell_type": "markdown",
   "source": [
    "2. The <span style=\"background-color: #ccfff2\">world_m</span> file contains borders of almost all countries in the world. Plot the world."
   ],
   "metadata": {}
  },
  {
   "cell_type": "code",
   "execution_count": 12,
   "source": [
    "world_m.plot(\"name\")"
   ],
   "outputs": [
    {
     "output_type": "execute_result",
     "data": {
      "text/plain": [
       "<AxesSubplot:>"
      ]
     },
     "metadata": {},
     "execution_count": 12
    },
    {
     "output_type": "display_data",
     "data": {
      "image/png": "[encoded data removed]",
      "text/plain": [
       "<Figure size 432x288 with 1 Axes>"
      ]
     },
     "metadata": {
      "needs_background": "light"
     }
    }
   ],
   "metadata": {}
  },
  {
   "cell_type": "markdown",
   "source": [
    "3. On top of the countries that you just plotted, plot another layer of information, namely the capital cities of each country from the <span style=\"background-color: #ccfff2\">cities</span> data-set. However, depending on how clever your programming environment is, the cities will probably all appear to be in the Gulf of Guinea, near the coordinates (0°, 0°)."
   ],
   "metadata": {}
  },
  {
   "cell_type": "code",
   "execution_count": 3,
   "source": [
    "# Use this cell for your code"
   ],
   "outputs": [],
   "metadata": {}
  },
  {
   "cell_type": "markdown",
   "source": [
    "4. Perform a map projection to bring the two data-sets into a shared coordinate system. (You can choose which one.) Now plot the two layers together to make sure the capital cities are where they are supposed to be."
   ],
   "metadata": {}
  },
  {
   "cell_type": "code",
   "execution_count": 4,
   "source": [
    "# Use this cell for your code"
   ],
   "outputs": [],
   "metadata": {}
  },
  {
   "cell_type": "markdown",
   "source": [
    "**Remember to submit your code on Moodle. You can return this Jupyter notebook (.ipynb) or .py, .R, etc depending on your programming preferences.**"
   ],
   "metadata": {}
  },
  {
   "cell_type": "markdown",
   "source": [
    "## Exercise 2 | Symbol classification\n",
    "\n",
    "We’ll be looking into machine learning by checking out the [HASYv2](https://zenodo.org/record/259444#.Wb7efZ8xDhZ) dataset that contains hand written mathematical symbols as images. The whole dataset is quite big, so we’ll restrict ourselves to doing 10-class classification on some of the symbols. Download the data and complete the following tasks."
   ],
   "metadata": {}
  },
  {
   "cell_type": "markdown",
   "source": [
    "1. Extract the data and find inside a file called <span style=\"background-color: #ccfff2\">hasy-data-labels.csv</span>. This file contains the labels for each of the images in the <span style=\"background-color: #ccfff2\">hasy_data</span> folder. Read the labels in and only keep the rows where the <span style=\"background-color: #ccfff2\">symbol_id</span> is within the inclusive range <span style=\"background-color: #ccfff2\">[70, 80]</span>. Read the corresponding images as black-and-white images and flatten them so that each image is a single vector of shape <span style=\"background-color: #ccfff2\">32x32 = 1024</span>. Your dataset should now consist of your input data of shape <span style=\"background-color: #ccfff2\">(1020, 1024)</span> and your labels of shape <span style=\"background-color: #ccfff2\">(1020, )</span>. That is, a matrix of shape <span style=\"background-color: #ccfff2\">1020 x 1024</span> and a vector of size <span style=\"background-color: #ccfff2\">1020</span>."
   ],
   "metadata": {}
  },
  {
   "cell_type": "code",
   "execution_count": 5,
   "source": [
    "# Use this cell for your code"
   ],
   "outputs": [],
   "metadata": {}
  },
  {
   "cell_type": "markdown",
   "source": [
    "2. Shuffle the data, and then split it into training and test sets, using the first 80% of the data for training and the rest for evaluation."
   ],
   "metadata": {}
  },
  {
   "cell_type": "code",
   "execution_count": 6,
   "source": [
    "# Use this cell for your code"
   ],
   "outputs": [],
   "metadata": {}
  },
  {
   "cell_type": "markdown",
   "source": [
    "3. Fit a logistic regression classifier on your data. Note that we have a multi-class classification problem, but the logistic regression is a binary classifier. For this reason, you will find useful <span style=\"background-color: #ccfff2\">[Sklearn's \"multi_class\" attribute](https://scikit-learn.org/stable/modules/generated/sklearn.linear_model.LogisticRegression.html)</span>. Use a multinomial loss, and the softmax function to predict the probability of each class as the outcome.  The classifier should select the class with the highest probability. Most library implementations will do this for you - feel free to use one."
   ],
   "metadata": {}
  },
  {
   "cell_type": "code",
   "execution_count": 7,
   "source": [
    "# Use this cell for your code"
   ],
   "outputs": [],
   "metadata": {}
  },
  {
   "cell_type": "markdown",
   "source": [
    "4. To get an idea of how good the model did, let’s create our own classifier that simply guesses the most common class in the training set (looking at the test set here would be cheating!). Then, evaluate your logistic regression model on the test data, and compare it to the majority class classifier. The logistic regression model should have significantly better accuracy - our naive model is merely making a guess."
   ],
   "metadata": {}
  },
  {
   "cell_type": "code",
   "execution_count": 8,
   "source": [
    "# Use this cell for your code"
   ],
   "outputs": [],
   "metadata": {}
  },
  {
   "cell_type": "markdown",
   "source": [
    "5. Plot some of the images that the logistic classifier classified wrongly. Can you think of why this happens? Would you have gotten it right?\n",
    "    \n",
    "    <span style=\"background-color: #ccfff2\">*Hint: Scipy has a [function](https://docs.scipy.org/doc/scipy-0.18.1/reference/generated/scipy.misc.imshow.html) for this.*</span>"
   ],
   "metadata": {}
  },
  {
   "cell_type": "markdown",
   "source": [
    "Here are some examples of the syntax used to fit a logistic regression classifier (using Sklearn or statsmodel with Python, or GLM with R):"
   ],
   "metadata": {}
  },
  {
   "cell_type": "code",
   "execution_count": 9,
   "source": [
    "#Sklearn (python)\n",
    "\n",
    "#from sklearn.linear_model import LogisticRegression\n",
    "\n",
    "#Fit on the training data set, with:\n",
    "#X : {array-like, sparse matrix}, shape (n_samples, n_features) , n_samples rows x n_features columns\n",
    "#with attributes that describe each sample.\n",
    "#y : array-like, shape (n_samples,) , n_samples target values for each sample.\n",
    "\n",
    "#model = LogisticRegression()\n",
    "#model.fit(X, y) "
   ],
   "outputs": [],
   "metadata": {}
  },
  {
   "cell_type": "code",
   "execution_count": 10,
   "source": [
    "#Statsmodels (python)\n",
    "\n",
    "#import statsmodels.api as sm\n",
    "#model = sm.Logit(y, X)"
   ],
   "outputs": [],
   "metadata": {}
  },
  {
   "cell_type": "code",
   "execution_count": 11,
   "source": [
    "#GLM (R)\n",
    "\n",
    "#model <- glm(y ~.,family=binomial(link='logit'), data=X) "
   ],
   "outputs": [],
   "metadata": {}
  },
  {
   "cell_type": "code",
   "execution_count": 12,
   "source": [
    "# Use this cell for your code"
   ],
   "outputs": [],
   "metadata": {}
  },
  {
   "cell_type": "markdown",
   "source": [
    "**Remember to submit your code on Moodle. You can return this Jupyter notebook (.ipynb) or .py, .R, etc depending on your programming preferences.**"
   ],
   "metadata": {}
  }
 ],
 "metadata": {
  "kernelspec": {
   "name": "python3",
   "display_name": "Python 3.9.7 64-bit"
  },
  "language_info": {
   "codemirror_mode": {
    "name": "ipython",
    "version": 3
   },
   "file_extension": ".py",
   "mimetype": "text/x-python",
   "name": "python",
   "nbconvert_exporter": "python",
   "pygments_lexer": "ipython3",
   "version": "3.9.7"
  },
  "interpreter": {
   "hash": "e7370f93d1d0cde622a1f8e1c04877d8463912d04d973331ad4851f04de6915a"
  }
 },
 "nbformat": 4,
 "nbformat_minor": 4
}